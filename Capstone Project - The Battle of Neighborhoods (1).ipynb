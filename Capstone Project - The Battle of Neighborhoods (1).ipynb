{
 "cells": [
  {
   "cell_type": "markdown",
   "metadata": {},
   "source": [
    "# <font color='red'><center> REAL ESTATE ANALYSIS: BEST MILAN NEIGHBORHOODS WHERE TO BUY/RENT YOUR HOUSE</center> </font>\n",
    "## Capstone Project - The Battle of Neighborhoods\n",
    "by Federica Gadda, 12/05/2020 <br />\n",
    "contact: federica.gadda1@gmail.com"
   ]
  },
  {
   "cell_type": "markdown",
   "metadata": {},
   "source": [
    "Table of Contents:\n",
    "1. [Introduction](#introduction)\n",
    "2. [Data](#Data)"
   ]
  },
  {
   "cell_type": "markdown",
   "metadata": {
    "collapsed": true
   },
   "source": [
    "## <font color='blue'><a name=\"introduction\"> 1. Introduction </a></font>\n",
    "\n",
    "Milan is a city in northern Italy, capital of Lombardy, and the second-most populous city in Italy after Rome. This city proper has a population of about 1.4 million. \n",
    "The official estimated population of the City of Milan was 1.4 million as of 31 December 2018, according to ISTAT, the official Italian statistical agency.\n",
    "Milan is considered a leading global city, with strengths in the field of the art, commerce, design, education, entertainment, fashion, finance, healthcare, media, services, research and tourism. <br />\n",
    "The city has been recognized as one of the world's four fashion capitals thanks to several international events and fairs, including Milan Fashion Week and the Milan Furniture Fair, which are currently among the world's biggest in terms of revenue, visitors and growth. The city hosts numerous cultural institutions, academies and universities. Milan is the destination of 11 million visitors in 2019 (as reported in the city website), attracted by its museums and art galleries that include some of the most important collections in the world, including major works by Leonardo da Vinci. The city is served by many luxury hotels and dreamy restaurants. \n",
    "last but not least, Milan will host the 2026 Winter Olympics together with Cortina d'Ampezzo. <br />\n",
    "In short, if you are looking for a city with events of every kind, where you will divinely eat and where you will never be bored, Milan is right for you!\n",
    "\n",
    "The goal of this project is to help people who want to buy or to rent house in Milan, finding the the characteristics of each neighborhood in terms of house prices and relevant venues in the surrounding area (like restaurants, gyms, parks...). By using data science methods and machine learning method, like clustering, this project will answer to the following question: if you want to move to Milan, what is the better neighborhood for you, according to your financial resources and your interests?"
   ]
  },
  {
   "cell_type": "markdown",
   "metadata": {},
   "source": [
    "## <font color='blue'><a name=\"Data\"> 2. Data </a></font>\n",
    "\n",
    "The data for this project has been retrieved from  multiple sources, paying the utmost attention to the reliability of the sources. For this reason the data was collected from:\n",
    "- the <u> italin Revenue Agency website</u> ([here](https://www.agenziaentrate.gov.it/portale/schede/fabbricatiterreni/omi/banche-dati/quotazioni-immobiliari)), where I find the Milan neighborhood list and the information about the market values and the rental values of the houses, depending on the location and the state of the property. <br /> In order to access to the CSV file, it's necessary to register to the website.\n",
    "- <u>Google Maps Geocoding API</u>, to retrive the geo-locational information (latitude and longitude) of the neighborhood.\n",
    "- <u>FourSquare API</u>, which provides the surrounding venues of given coordinates."
   ]
  },
  {
   "cell_type": "code",
   "execution_count": null,
   "metadata": {},
   "outputs": [],
   "source": []
  }
 ],
 "metadata": {
  "kernelspec": {
   "display_name": "Python 3.6",
   "language": "python",
   "name": "python3"
  },
  "language_info": {
   "codemirror_mode": {
    "name": "ipython",
    "version": 3
   },
   "file_extension": ".py",
   "mimetype": "text/x-python",
   "name": "python",
   "nbconvert_exporter": "python",
   "pygments_lexer": "ipython3",
   "version": "3.6.9"
  }
 },
 "nbformat": 4,
 "nbformat_minor": 1
}
